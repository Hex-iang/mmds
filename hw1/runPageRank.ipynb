{
 "cells": [
  {
   "cell_type": "code",
   "execution_count": 5,
   "metadata": {
    "collapsed": true
   },
   "outputs": [],
   "source": [
    "#!/usr/bin/env python\n",
    "#first import useful module\n",
    "import numpy as np\n",
    "import scipy.sparse as _sparse\n",
    "import time\n",
    "\n",
    "import optparse, sys, os, copy\n",
    "from collections import defaultdict"
   ]
  },
  {
   "cell_type": "code",
   "execution_count": 10,
   "metadata": {
    "collapsed": false
   },
   "outputs": [],
   "source": [
    "# then define customized functions\n",
    "def readWebGraph(matSize, filename = os.path.join(\"data\", \"web-Google.txt\")):\n",
    "    mat = _sparse.lil_matrix((matSize, matSize), dtype=np.float32)\n",
    "    sys.stderr.write('Phase 1 - read web graph\\n')\n",
    "    with open(filename, \"r\") as f:\n",
    "        for idx, line in enumerate(f):\n",
    "            data =  line.strip()\n",
    "            if not data.startswith(\"#\"):\n",
    "                tmp = data.split('\\t')\n",
    "                row = int(tmp[0])\n",
    "                col = int(tmp[1])\n",
    "                mat[row, col] += 1;                \n",
    "            if idx % 10000 == 0:\n",
    "                sys.stderr.write('.')\n",
    "                \n",
    "    sys.stderr.write('Phase 2 - normalize column weight\\n')\n",
    "    \n",
    "    return mat.tocsr()\n",
    "\n",
    "# count the largest graph node number\n",
    "def readBiggestNodesFromGraph(filename = os.path.join(\"data\", \"web-Google.txt\")):\n",
    "    max_node = 0\n",
    "    with open(filename, \"r\") as f:\n",
    "        for idx, line in enumerate(f):\n",
    "            data =  line.strip()\n",
    "            if not data.startswith(\"#\"):\n",
    "                tmp = data.split('\\t')\n",
    "                max_node = max(int(tmp[0]), int(tmp[1]), max_node)\n",
    "            if idx % 1000000 == 0:\n",
    "                sys.stderr.write('.')\n",
    "                \n",
    "    return max_node\n"
   ]
  },
  {
   "cell_type": "code",
   "execution_count": 7,
   "metadata": {
    "collapsed": false
   },
   "outputs": [
    {
     "name": "stdout",
     "output_type": "stream",
     "text": [
      "  (0, 1)\t1.0\n",
      "  (0, 2)\t1.0\n",
      "  (0, 6)\t1.0\n",
      "  (0, 8)\t1.0\n",
      "  (1, 3)\t1.0\n",
      "  (1, 7)\t1.0\n",
      "  (2, 9)\t1.0\n",
      "  (5, 6)\t1.0\n",
      "  (5, 7)\t1.0\n",
      "  (6, 0)\t1.0\n",
      "  (7, 9)\t1.0\n",
      "  (9, 1)\t1.0\n"
     ]
    },
    {
     "name": "stderr",
     "output_type": "stream",
     "text": [
      ".."
     ]
    }
   ],
   "source": [
    "big = readBiggestNodesFromGraph(os.path.join(\"data\", \"toy.txt\"))\n",
    "tmp = readWebGraph(big + 1, os.path.join(\"data\", \"toy.txt\"))\n",
    "print tmp"
   ]
  },
  {
   "cell_type": "code",
   "execution_count": 8,
   "metadata": {
    "collapsed": false
   },
   "outputs": [
    {
     "name": "stderr",
     "output_type": "stream",
     "text": [
      "......"
     ]
    },
    {
     "name": "stdout",
     "output_type": "stream",
     "text": [
      "Finish finding biggest node - elasped time: -15.2804160118\n"
     ]
    }
   ],
   "source": [
    "start_time = time.time()\n",
    "cnt = readBiggestNodesFromGraph()\n",
    "mid_time = time.time()\n",
    "elasped_time1 = mid_time - start_time\n",
    "print \"Finish finding biggest node - elasped time: \" + str(elasped_time1)\n"
   ]
  },
  {
   "cell_type": "code",
   "execution_count": 12,
   "metadata": {
    "collapsed": false
   },
   "outputs": [
    {
     "name": "stderr",
     "output_type": "stream",
     "text": [
      ".............................................................................................................................................................................................................................................................................................................................................................................................................................................................................................................................."
     ]
    },
    {
     "name": "stdout",
     "output_type": "stream",
     "text": [
      "Finish creating graph - elasped time: 263.180986881\n"
     ]
    },
    {
     "name": "stderr",
     "output_type": "stream",
     "text": [
      "."
     ]
    }
   ],
   "source": [
    "graph = readWebGraph(cnt + 1)\n",
    "end_time = time.time()\n",
    "elasped_time2 = end_time - mid_time\n",
    "print \"Finish creating graph - elasped time: \" + str(elasped_time2)"
   ]
  },
  {
   "cell_type": "code",
   "execution_count": 16,
   "metadata": {
    "collapsed": false
   },
   "outputs": [],
   "source": [
    "graph = graph.tolil()"
   ]
  },
  {
   "cell_type": "code",
   "execution_count": null,
   "metadata": {
    "collapsed": true
   },
   "outputs": [],
   "source": []
  }
 ],
 "metadata": {
  "kernelspec": {
   "display_name": "Python 2",
   "language": "python",
   "name": "python2"
  },
  "language_info": {
   "codemirror_mode": {
    "name": "ipython",
    "version": 2
   },
   "file_extension": ".py",
   "mimetype": "text/x-python",
   "name": "python",
   "nbconvert_exporter": "python",
   "pygments_lexer": "ipython2",
   "version": "2.7.9"
  }
 },
 "nbformat": 4,
 "nbformat_minor": 0
}
