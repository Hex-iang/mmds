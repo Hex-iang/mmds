{
 "cells": [
  {
   "cell_type": "markdown",
   "metadata": {},
   "source": [
    "# Quiz -Week 6A"
   ]
  },
  {
   "cell_type": "markdown",
   "metadata": {},
   "source": [
    "##Q1.\n",
    "\n",
    "* The figure below shows two positive points (purple squares) and two negative points (green circles): \n",
    "\n",
    "![alt pic1](otc_svm1.gif)\n",
    "\n",
    "* That is, the training data set consists of:\n",
    "\n",
    "    * (x1,y1) = ((5,4),+1)\n",
    "    * (x2,y2) = ((8,3),+1)\n",
    "    * (x3,y3) = ((7,2),-1)\n",
    "    * (x4,y4) = ((3,3),-1)\n",
    "\n",
    "* Our goal is to find the __maximum-margin linear classifier__ for this data. In easy cases, the shortest line between a positive and negative point has a __perpendicular bisector that separates the points__. If so, the perpendicular bisector is surely the maximum-margin separator. Alas, in this case, the closest pair of positive and negative points, x2 and x3, have a perpendicular bisector that misclassifies x1 as negative, so that won't work.\n",
    "\n",
    "* The __next-best possibility__ is that we can find a pair of points on one side (i.e., either two positive or two negative points) such that __a line parallel to the line through these points__ is the maximum-margin separator. In these cases, the limit to how far from the two points the parallel line can get is determined by the closest (to the line between the two points) of the points on the other side. For our simple data set, this situation holds.\n",
    "\n",
    "* Consider all possibilities for boundaries of this type, and express the boundary as w.x+b=0, such that w.x+b≥1 for positive points x and w.x+b≤-1 for negative points x. Assuming that w = (w1,w2), identify in the list below the true statement about one of w1, w2, and b."
   ]
  },
  {
   "cell_type": "code",
   "execution_count": 12,
   "metadata": {
    "collapsed": false
   },
   "outputs": [
    {
     "name": "stdout",
     "output_type": "stream",
     "text": [
      "w for p1, p2: (0.5, 1.5)\n",
      "b for p1, p2: -7.5\n",
      "===========================\n",
      "1.0\n",
      "1.0\n",
      "-1.0\n",
      "-1.5\n",
      "\n",
      "w for p1, p2: (0.4, 1.6)\n",
      "b for p1, p2: -5.0\n",
      "===========================\n",
      "3.4\n",
      "3.0\n",
      "1.0\n",
      "1.0\n"
     ]
    }
   ],
   "source": [
    "import numpy as np\n",
    "\n",
    "p1 = (5, 4)\n",
    "p2 = (8, 3)\n",
    "p3 = (7, 2)\n",
    "p4 = (3, 3)\n",
    "\n",
    "def calc_wb(p1, p2):\n",
    "    dx = ( p1[0] - p2[0] )\n",
    "    dy = ( p1[1] - p2[1] )\n",
    "    return ( ( float(dy) *2 / float(dy - dx), float(-dx)*2 / float(dy - dx) ),\\\n",
    "            (dx*p2[1] - dy * p2[0])*2 / float(dy - dx) + 1) # b = dx*y1 - dy*x1\n",
    "\n",
    "def cal_margin(w, b, pt):\n",
    "    return w[0] * pt[0] + w[1] * pt[1] + b\n",
    "\n",
    "w, b = calc_wb(p1, p2)\n",
    "print \"w for p1, p2: \" + str(w)\n",
    "print \"b for p1, p2: \" + str(b)\n",
    "print \"===========================\"\n",
    "print cal_margin(w, b, p1)\n",
    "print cal_margin(w, b, p2)\n",
    "print cal_margin(w, b, p3)\n",
    "print cal_margin(w, b, p4)\n",
    "print \n",
    "\n",
    "w, b = calc_wb(p4, p3)\n",
    "print \"w for p1, p2: \" + str(w)\n",
    "print \"b for p1, p2: \" + str(b)\n",
    "print \"===========================\"\n",
    "print cal_margin(w, b, p1)\n",
    "print cal_margin(w, b, p2)\n",
    "print cal_margin(w, b, p3)\n",
    "print cal_margin(w, b, p4)\n"
   ]
  },
  {
   "cell_type": "markdown",
   "metadata": {},
   "source": [
    "##Q2.\n",
    "\n",
    "\n",
    "* Consider the following training set of 16 points. The eight purple squares are positive examples, and the eight green circles are negative examples.\n",
    "\n",
    "![alt text](newsvm4.gif)\n",
    "\n",
    "* We propose to use the diagonal line with slope +1 and intercept +2 as a decision boundary, with positive examples above and negative examples below. However, like any linear boundary for this training set, some examples are misclassified. We can measure the goodness of the boundary by computing all the slack variables that exceed 0, and then using them in one of several objective functions. In this problem, we shall only concern ourselves with computing the slack variables, not an objective function.\n",
    "\n",
    "* To be specific, suppose the boundary is written in the form w.x+b=0, where w = (-1,1) and b = -2. Note that we can scale the three numbers involved as we wish, and so doing changes the margin around the boundary. However, we want to consider this specific boundary and margin.\n",
    "\n",
    "* Determine the slack for each of the 16 points. Then, identify the correct statement in the list below."
   ]
  },
  {
   "cell_type": "code",
   "execution_count": 17,
   "metadata": {
    "collapsed": false
   },
   "outputs": [
    {
     "name": "stdout",
     "output_type": "stream",
     "text": [
      "1\n",
      "-1\n",
      "-1\n",
      "-1\n"
     ]
    }
   ],
   "source": [
    "w = (-1, 1)\n",
    "b = -2\n",
    "\n",
    "def cal_margin(w, b, pt):\n",
    "    return w[0] * pt[0] + w[1] * pt[1] + b\n",
    "\n",
    "print cal_margin(w, b, (7,  10) )\n",
    "print cal_margin(w, b, (7,  8)  )\n",
    "print cal_margin(w, b, (3,  4)  )\n",
    "print cal_margin(w, b, (3,  4)  )"
   ]
  },
  {
   "cell_type": "markdown",
   "metadata": {},
   "source": [
    "##Q3.\n",
    "\n",
    "* Below we see a set of 20 points and a decision tree for classifying the points.\n",
    "\n",
    "![alt text](otc_gold-small.gif)\n",
    "![alt text](otc_dectree1.gif)\n",
    "\n",
    "* To be precise, the 20 points represent (Age,Salary) pairs of people who do or do not buy gold jewelry. Age (appreviated A in the decision tree) is the x-axis, and Salary (S in the tree) is the y-axis. Those that do are represented by gold points, and those that do not by green points. The 10 points of gold-jewelry buyers are:\n",
    "\n",
    "* (28,145), (38,115), (43,83), (50,130), (50,90), (50,60), (50,30), (55,118), (63,88), and (65,140).\n",
    "\n",
    "* The 10 points of those that do not buy gold jewelry are:\n",
    "\n",
    "* (23,40), (25,125), (29,97), (33,22), (35,63), (42,57), (44, 105), (55,63), (55,20), and (64,37).\n",
    "\n",
    "* Some of these points are correctly classified by the decision tree and some are not. Determine the classification of each point, and then indicate in the list below the point that is misclassified."
   ]
  },
  {
   "cell_type": "code",
   "execution_count": 16,
   "metadata": {
    "collapsed": false
   },
   "outputs": [
    {
     "name": "stdout",
     "output_type": "stream",
     "text": [
      "Doesn't buy\n",
      "Buy\n",
      "Buy\n",
      "Buy\n",
      "==============\n",
      "Buy\n",
      "Buy\n",
      "Doesn't buy\n",
      "Doesn't buy\n"
     ]
    }
   ],
   "source": [
    "def predict_by_tree(pt):\n",
    "    if pt[0] < 45:\n",
    "        if pt[1] < 110:\n",
    "            print \"Doesn't buy\"\n",
    "        else:\n",
    "            print \"Buy\"\n",
    "    else:\n",
    "        if pt[1] < 75:\n",
    "            print \"Doesn't buy\"\n",
    "        else:\n",
    "            print \"Buy\"\n",
    "\n",
    "predict_by_tree((43, 83))\n",
    "predict_by_tree((55, 118))\n",
    "predict_by_tree((65, 140))\n",
    "predict_by_tree((28, 145))\n",
    "\n",
    "print \"==============\"\n",
    "predict_by_tree((65, 140))\n",
    "predict_by_tree((25, 125))\n",
    "predict_by_tree((44, 105))\n",
    "predict_by_tree((35, 63))"
   ]
  },
  {
   "cell_type": "markdown",
   "metadata": {
    "collapsed": true
   },
   "source": [
    "# Quiz Week 6A."
   ]
  },
  {
   "cell_type": "markdown",
   "metadata": {},
   "source": [
    "## Q1.\n",
    "\n",
    "* Using the matrix-vector multiplication described in Section 2.3.1, applied to the matrix and vector:\n",
    "\n",
    "<pre>\n",
    "\n",
    "    | 1   2   3   4  |   | 1 |\n",
    "    | 5   6   7   8  | * | 2 |\n",
    "    | 9   10  11  12 |   | 3 |\n",
    "    | 13  14  15  16 |   | 4 |\n",
    " \n",
    "</pre>\n",
    "\n",
    "* Apply the Map function to this matrix and vector. Then, identify in the list below, one of the key-value pairs that are output of Map.\n",
    "\n"
   ]
  },
  {
   "cell_type": "markdown",
   "metadata": {},
   "source": [
    "## Solution 1.\n",
    "\n",
    "The matrix-vector product is the vector x of length n, whose ith element xi is given by\n",
    "\n",
    "$$\n",
    "\\begin{equation}\n",
    "    x_i =􏰅 \\sum_{ j = 1}^n m_{ij} \\cdot v_j\n",
    "\\end{equation}\n",
    "$$\n",
    "\n",
    "* From each matrix element mij it produces the key-value pair ( i, $m_{ij} \\cdot v_j$ ).\n",
    "* Thus, all terms of the sum that make up the component $x_i$ of the matrix-vector product will get the same key, i."
   ]
  },
  {
   "cell_type": "code",
   "execution_count": 6,
   "metadata": {
    "collapsed": false
   },
   "outputs": [
    {
     "name": "stdout",
     "output_type": "stream",
     "text": [
      "{1: array([ 1,  4,  9, 16]), 2: array([ 5, 12, 21, 32]), 3: array([ 9, 20, 33, 48]), 4: array([13, 28, 45, 64])}\n"
     ]
    }
   ],
   "source": [
    "import numpy as np\n",
    "\n",
    "mat = np.array([ [1,  2, 3, 4],\n",
    "                 [5,  6, 7, 8],\n",
    "                 [9, 10,11,12],\n",
    "                 [13,14,15,16] ])\n",
    "vec = np.array([1, 2, 3, 4])\n",
    "\n",
    "def key_val(mat, vec):\n",
    "    pair = dict()\n",
    "    for idx, row in enumerate(mat):\n",
    "#         pair[idx + 1] = np.dot(row, vec)\n",
    "        pair[idx + 1] = row * vec\n",
    "    \n",
    "    return pair\n",
    "\n",
    "print key_val(mat, vec)"
   ]
  },
  {
   "cell_type": "markdown",
   "metadata": {},
   "source": [
    "## Q2.\n",
    "* Suppose we use the algorithm of __Section 2.3.10__ to compute the __product of matrices M and N__. Let M have x rows and y columns, while N has y rows and z columns. As a function of x, y, and z, express the answers to the following questions:\n",
    "* The output of __the Map function__ has __how many different keys__? How many __key-value pairs__ are there with each key? How many __key-value pairs are there in all__?\n",
    "* The input to the Reduce function has how many keys? What is the length of the value (a list) associated with each key?\n"
   ]
  },
  {
   "cell_type": "markdown",
   "metadata": {},
   "source": [
    "## Solution 2.\n",
    "\n",
    "1. Diffrent keys output of Map function => x * z\n",
    "2. Key-value pairs with each key => 2 * y\n",
    "3. Key value pairs in all => 2 * x * y * z\n",
    "4. Key Input to Reduce function => \n",
    "5. Length of value list = 2 * y"
   ]
  },
  {
   "cell_type": "markdown",
   "metadata": {},
   "source": [
    "##Q3.\n",
    "* Suppose we use the __two-stage algorithm of Section 2.3.9__ to compute the product of matrices M and N. Let M have x rows and y columns, while N has y rows and z columns. As a function of x, y, and z, express the answers to the following questions:\n",
    "* The output of the first Map function has __how many different keys__? How many key-value pairs are there with each key? How many key-value pairs are there in all?\n",
    "* The output of the __first Reduce function has how many keys__? What is __the length of the value (a list) associated with each key__?\n",
    "* The output of the second Map function has how many different keys? How many key-value pairs are there with each key? How many key-value pairs are there in all?\n",
    "* Then, identify the true statement in the list below.\n",
    "\n",
    " "
   ]
  },
  {
   "cell_type": "markdown",
   "metadata": {},
   "source": [
    "## Solution 3.\n",
    "\n",
    "1. Different keys of first map => y\n",
    "2. Different key-value pairs of each key => y * x + y * z\n",
    "2. Key-value pairs in all => y * ( y * x + y * z)"
   ]
  },
  {
   "cell_type": "markdown",
   "metadata": {},
   "source": [
    "## Q4.\n",
    "\n",
    "* Suppose we have the following relations:\n",
    "<pre>\n",
    "       \n",
    "       R               S\n",
    "       \n",
    "    __A__\t\t__B__    __B__\t\t__C__\n",
    "    0\t\t1    0\t\t1\n",
    "    1\t\t2    1\t\t2\n",
    "    2\t\t3    2\t\t3\n",
    "\n",
    "</pre>\n",
    "\n",
    "* and we take their __natural join__ by the algorithm of Section 2.3.7. Apply the Map function to the tuples of these relations. Then, construct the elements that are input to the Reduce function. Identify one of these elements in the list below."
   ]
  },
  {
   "cell_type": "markdown",
   "metadata": {},
   "source": [
    "* Map Results:\n",
    "<pre>\n",
    "    (1, (R, 0))\n",
    "    (2, (R, 1))\n",
    "    (3, (R, 2))\n",
    "    (0, (S, 1))\n",
    "    (1, (S, 2))\n",
    "    (2, (S, 3))\n",
    "</pre>"
   ]
  },
  {
   "cell_type": "code",
   "execution_count": null,
   "metadata": {
    "collapsed": true
   },
   "outputs": [],
   "source": []
  }
 ],
 "metadata": {
  "kernelspec": {
   "display_name": "Python 2",
   "language": "python",
   "name": "python2"
  },
  "language_info": {
   "codemirror_mode": {
    "name": "ipython",
    "version": 2
   },
   "file_extension": ".py",
   "mimetype": "text/x-python",
   "name": "python",
   "nbconvert_exporter": "python",
   "pygments_lexer": "ipython2",
   "version": "2.7.9"
  }
 },
 "nbformat": 4,
 "nbformat_minor": 0
}
