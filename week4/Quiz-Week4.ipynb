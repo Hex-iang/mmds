{
 "cells": [
  {
   "cell_type": "markdown",
   "metadata": {},
   "source": [
    "# Quiz - Week 4A"
   ]
  },
  {
   "cell_type": "markdown",
   "metadata": {},
   "source": [
    "## Q1.\n",
    "* * *\n",
    "* Here is a table of 1-5 star ratings for five movies (M, N, P. Q. R) by three raters (A, B, C).\n",
    "\n",
    "<pre>\n",
    "     M\tN\tP\tQ\tR\n",
    "A    1\t2\t3\t4\t5\n",
    "B\t2\t3\t2\t5\t3\n",
    "C\t5\t5\t5\t3\t2\n",
    "</pre>\n",
    "\n",
    "* Normalize the ratings by subtracting the average for each row and then subtracting the average for each column in the resulting table. Then, identify the true statement about the normalized table."
   ]
  },
  {
   "cell_type": "markdown",
   "metadata": {},
   "source": [
    "## Solution 1.\n",
    "\n",
    "Step 1. Mean Calculation for row\n",
    "\n",
    "<pre>\n",
    "       M    N    P    Q    R    Mean\n",
    "  A    1    2    3    4    5    3\n",
    "  B    2    3    2    5    3    3\n",
    "  C    5    5    5    3    2    4\n",
    "</pre>\n",
    "\n",
    "Step 2. Mean Subtraction for row\n",
    "\n",
    "<pre>\n",
    "       M    N    P    Q    R    Mean\n",
    "  A    -2   -1   0    1    2    3\n",
    "  B    -1   0   -1    2    0    3\n",
    "  C    1    1    1   -1   -2    4\n",
    "</pre>\n",
    "\n",
    "Step 3. Mean Calculation for col\n",
    "\n",
    "<pre>\n",
    "       M    N    P    Q    R    Mean\n",
    "  A    -2   -1   0    1    2    3\n",
    "  B    -1   0   -1    2    0    3\n",
    "  C    1    1    1   -1   -2    4\n",
    "  Mean -2/3 0    0  -2/3   0    \n",
    "</pre>\n",
    "\n",
    "Step 4. Mean Substraction for col\n",
    "\n",
    "<pre>\n",
    "       M    N    P    Q    R    Mean\n",
    "  A    -4/3 -1   0   1/3    2    3\n",
    "  B    -1/3 0   -1   4/3    0    3\n",
    "  C    5/3  1    1  -1/3   -2    4\n",
    "  Mean -2/3 0    0  -2/3   0    \n",
    "</pre>"
   ]
  },
  {
   "cell_type": "code",
   "execution_count": 1,
   "metadata": {
    "collapsed": false
   },
   "outputs": [
    {
     "name": "stdout",
     "output_type": "stream",
     "text": [
      "3.0\n",
      "3.0\n",
      "4.0\n",
      "==============\n",
      "[-1.33333333 -0.33333333  1.66666667]\n",
      "[-1.  0.  1.]\n",
      "[ 0. -1.  1.]\n",
      "[ 0.33333333  1.33333333 -1.66666667]\n",
      "[ 2.  0. -2.]\n"
     ]
    }
   ],
   "source": [
    "import numpy as np\n",
    "\n",
    "print np.mean(np.array([1,2,3,4,5]))\n",
    "print np.mean(np.array([2,3,2,5,3]))\n",
    "print np.mean(np.array([5,5,5,3,2]))\n",
    "\n",
    "print \"==============\"\n",
    "a = np.array([-2,-1, 1])\n",
    "# print np.mean(a)\n",
    "print a - np.mean(a)\n",
    "\n",
    "a = np.array([-1, 0, 1])\n",
    "# print np.mean(a)\n",
    "print a - np.mean(a)\n",
    "\n",
    "a = np.array([ 0,-1, 1])\n",
    "# print np.mean(a)\n",
    "print a - np.mean(a)\n",
    "\n",
    "a = np.array([ 1, 2,-1])\n",
    "# print np.mean(a)\n",
    "print a - np.mean(a)\n",
    "\n",
    "a = np.array([ 2, 0,-2])\n",
    "# print np.mean(a)\n",
    "print a - np.mean(a)\n",
    "\n",
    "\n"
   ]
  },
  {
   "cell_type": "markdown",
   "metadata": {},
   "source": [
    "## Q2. \n",
    "* * *\n",
    "\n",
    "* Below is a table giving the profile of three items.\n",
    "\n",
    "<pre>\n",
    "A\t1\t0\t1\t0\t1\t2\n",
    "B\t1\t1\t0\t0\t1\t6\n",
    "C\t0\t1\t0\t1\t0\t2\n",
    "</pre>\n",
    "\n",
    "* The first five attributes are Boolean, and the last is an integer \"rating.\" Assume that the scale factor for the rating is α. Compute, as a function of α, the cosine distances between each pair of profiles. For each of α = 0, 0.5, 1, and 2, determine the cosine of the angle between each pair of vectors. Which of the following is FALSE?"
   ]
  },
  {
   "cell_type": "code",
   "execution_count": 28,
   "metadata": {
    "collapsed": false
   },
   "outputs": [
    {
     "name": "stdout",
     "output_type": "stream",
     "text": [
      "==========================\n",
      "Current Alpha: 0\n",
      "Consine(A, B) = 0.666666666667\n",
      "Consine(A, C) = 0.0\n",
      "Consine(B, C) = 0.408248315343\n",
      "==========================\n",
      "Current Alpha: 0.5\n",
      "Consine(A, B) = 0.72168784944\n",
      "Consine(A, C) = 0.288675139776\n",
      "Consine(B, C) = 0.666666666667\n",
      "==========================\n",
      "Current Alpha: 1\n",
      "Consine(A, B) = 0.8473185889\n",
      "Consine(A, C) = 0.617213414251\n",
      "Consine(B, C) = 0.849836556801\n",
      "==========================\n",
      "Current Alpha: 2\n",
      "Consine(A, B) = 0.946094512584\n",
      "Consine(A, C) = 0.865180900773\n",
      "Consine(B, C) = 0.952579402468\n"
     ]
    }
   ],
   "source": [
    "from numpy.linalg import norm\n",
    "# cos(A, B)\n",
    "alphas = [0, 0.5, 1, 2]\n",
    "\n",
    "for alpha in alphas:\n",
    "    print \"==========================\"\n",
    "    A = np.array([1,0,1,0,1,2*alpha], dtype=\"float32\")\n",
    "    B = np.array([1,1,0,0,1,6*alpha], dtype=\"float32\")\n",
    "    C = np.array([0,1,0,1,0,2*alpha], dtype=\"float32\")\n",
    "    \n",
    "    print \"Current Alpha: \" + str(alpha)\n",
    "    cos_a_b = float(np.dot(A.T, B)) / float( norm(A, ord=2)* norm(B, ord=2))\n",
    "    print \"Consine(A, B) = \" + str(cos_a_b)\n",
    "\n",
    "    cos_a_c = float(np.dot(A.T, C)) / float( norm(A, ord=2)* norm(C, ord=2))\n",
    "    print \"Consine(A, C) = \" + str(cos_a_c)\n",
    "\n",
    "    cos_b_c = float(np.dot(B.T, C)) / float( norm(B, ord=2)* norm(C, ord=2))\n",
    "    print \"Consine(B, C) = \" + str(cos_b_c)"
   ]
  },
  {
   "cell_type": "markdown",
   "metadata": {
    "collapsed": false
   },
   "source": [
    "# Quiz - Week 4B"
   ]
  },
  {
   "cell_type": "markdown",
   "metadata": {
    "collapsed": false
   },
   "source": [
    "# Q1.\n",
    "\n",
    "***\n",
    "\n",
    "Note: In this question, all columns will be written in their transposed form, as rows, to make the typography simpler. Matrix M has three rows and two columns, and the columns form an orthonormal basis. One of the columns is [2/7,3/7,6/7]. There are many options for the second column [x,y,z]. Write down those constraints on x, y, and z. Then, identify in the list below the one column that could be [x,y,z]. All components are computed to three decimal places, so the constraints may be satisfied only to a close approximation."
   ]
  },
  {
   "cell_type": "code",
   "execution_count": 22,
   "metadata": {
    "collapsed": false
   },
   "outputs": [
    {
     "name": "stdout",
     "output_type": "stream",
     "text": [
      "(0.45128571428571423, 0.9996484382021511)\n",
      "(0.36942857142857144, 0.95865948073338325)\n",
      "(0.00014285714285711126, 1.0002169764606077)\n",
      "(-0.2142857142857143, 2.4238399287081647)\n"
     ]
    }
   ],
   "source": [
    "import numpy as np\n",
    "\n",
    "def test_orth(lst, tested_lst):\n",
    "\n",
    "    col_b = np.array(tested_lst)\n",
    "    col_a = np.array(lst)\n",
    "    return (np.dot(col_b.T, col_a), np.linalg.norm(col_b, ord=2) )\n",
    "\n",
    "a = [2/7.0, 3/7.0, 6/7.0]\n",
    "print test_orth(a, [-.702,  .117,   .702])\n",
    "print test_orth(a, [-.288, -.490,  .772])\n",
    "print test_orth(a, [.728,   .485, -.485])\n",
    "print test_orth(a, [2.250, -.500, -.750])"
   ]
  },
  {
   "cell_type": "markdown",
   "metadata": {},
   "source": [
    "## Q2.\n",
    "***\n",
    "Note: In this question, all columns will be written in their transposed form, as rows, to make the typography simpler. Matrix M has three rows and three columns, and the columns form an orthonormal basis. One of the columns is [2/7,3/7,6/7], and another is [6/7, 2/7, -3/7]. Let the third column be [x,y,z]. Since the length of the vector [x,y,z] must be 1, there is a constraint that $x^2+y^2+z^2$ = 1. However, there are other constraints, and these other constraints can be used to deduce facts about the ratios among x, y, and z. Compute these ratios, and then identify one of them in the list below."
   ]
  },
  {
   "cell_type": "markdown",
   "metadata": {},
   "source": [
    "2*x + 3*y + 6*z = 0\n",
    "6*x + 2*y - 3*z = 0\n",
    "\n",
    "14*x + 7*y = 0 => y = -2*x\n",
    "-4*x + 6*z = 0 => 3*z = 2*x => z = 2/3*x \n"
   ]
  },
  {
   "cell_type": "markdown",
   "metadata": {},
   "source": [
    "## Q3.\n",
    "***\n",
    "Suppose we have three points in a two dimensional space: (1,1), (2,2), and (3,4). We want to perform PCA on these points, so we construct a 2-by-2 matrix whose eigenvectors are the directions that best represent these three points. Construct this matrix and identify, in the list below, one of its elements."
   ]
  },
  {
   "cell_type": "code",
   "execution_count": 29,
   "metadata": {
    "collapsed": false
   },
   "outputs": [
    {
     "name": "stdout",
     "output_type": "stream",
     "text": [
      "[[14 17]\n",
      " [17 21]]\n",
      "35.0\n"
     ]
    }
   ],
   "source": [
    "M = np.array([[1,1],\n",
    "              [2,2],\n",
    "              [3,4]])\n",
    "\n",
    "print np.dot(M.T, M)"
   ]
  },
  {
   "cell_type": "markdown",
   "metadata": {},
   "source": [
    "## Q4\n",
    "***\n",
    "Find, in the list below, the vector that is orthogonal to the vector [1,2,3]. Note: the interesting concept regarding eigenvectors is \"orthonormal,\" that is unit vectors that are orthogonal. However, this question avoids using unit vectors to make the calculations simpler."
   ]
  },
  {
   "cell_type": "code",
   "execution_count": 23,
   "metadata": {
    "collapsed": false
   },
   "outputs": [
    {
     "name": "stdout",
     "output_type": "stream",
     "text": [
      "-5\n",
      "-14\n",
      "-3\n",
      "0\n",
      "=================\n",
      "-2\n",
      "-1\n",
      "-3\n",
      "0\n"
     ]
    }
   ],
   "source": [
    "def test_orth(lst, tested_lst):\n",
    "    flag = True\n",
    "    col_b = np.array(tested_lst)\n",
    "    col_a = np.array(lst)\n",
    "\n",
    "    return np.dot(col_b.T, col_a)\n",
    "\n",
    "a = [1, 2, 3]\n",
    "print test_orth(a, [-1, -2,  0])\n",
    "print test_orth(a, [-1, -2, -3])\n",
    "print test_orth(a, [-4,  2, -1])\n",
    "print test_orth(a, [-1, -1,  1])\n",
    "\n",
    "\n",
    "print \"=================\"\n",
    "print test_orth(a, [-1,1,-1])\n",
    "print test_orth(a, [2,-3, 1])\n",
    "print test_orth(a, [-4,2,-1])\n",
    "print test_orth(a, [ 3,0,-1])\n"
   ]
  },
  {
   "cell_type": "code",
   "execution_count": null,
   "metadata": {
    "collapsed": true
   },
   "outputs": [],
   "source": []
  }
 ],
 "metadata": {
  "language_info": {
   "codemirror_mode": {
    "name": "ipython",
    "version": 2
   },
   "file_extension": ".py",
   "mimetype": "text/x-python",
   "name": "python",
   "nbconvert_exporter": "python",
   "pygments_lexer": "ipython2",
   "version": "2.7.9"
  }
 },
 "nbformat": 4,
 "nbformat_minor": 0
}
