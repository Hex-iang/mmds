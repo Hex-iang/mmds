{
 "cells": [
  {
   "cell_type": "markdown",
   "metadata": {},
   "source": [
    "# Quiz - Week 5B"
   ]
  },
  {
   "cell_type": "markdown",
   "metadata": {},
   "source": [
    "## Q1.\n",
    "* We wish to cluster the following set of points:\n",
    "\n",
    "![Alt text](otc_gold.gif)\n",
    "\n",
    "\n",
    "* into __10 clusters__. We initially choose each of the green points (25,125), (44,105), (29,97), (35,63), (55,63), (42,57), (23,40), (64,37), (33,22), and (55,20) as a centroid. Assign each of the gold points to their nearest centroid. \n",
    "    * __Note__: the scales of the horizontal and vertical axes differ, so you really need to apply the formula for distance of points; you can't just \"eyeball\" it.\n",
    "* Then, __recompute the centroids__ of each of the clusters. __Do any of the points then get reassigned__ to a new cluster on the next round? Identify the true statement in the list below. Each statement refers either to a centroid AFTER recomputation of centroids (precise to one decimal place) or to a point that gets reclassified."
   ]
  },
  {
   "cell_type": "code",
   "execution_count": 34,
   "metadata": {
    "collapsed": false
   },
   "outputs": [
    {
     "name": "stdout",
     "output_type": "stream",
     "text": [
      "(34.3 133.3), (52.5 109.3), (36.0 90.0), (35.0 63.0), (52.5 61.5), (42.0 57.0), (23.0 40.0), (64.0 37.0), (33.0 22.0), (52.5 25.0)\n"
     ]
    }
   ],
   "source": [
    "# Solution \n",
    "import numpy as np\n",
    "import math\n",
    "def dist(pt1, pt2):\n",
    "    return math.sqrt( (pt1[0] - pt2[0])**2 + (pt1[1] - pt2[1])**2 )\n",
    "\n",
    "pts1 = [ (25,125), (44,105), (29,97), (35, 63), (55, 63), (42, 57), (23, 40), (64,37), (33,22), (55,20) ]\n",
    "pts2 = [ (28,145), (38,115), (50,130),(65,140), (55,118), (50, 90), (43, 83), (63,88), (50,60), (50,30) ]\n",
    "\n",
    "clusters = [ [pt] for pt in pts1]\n",
    "# simulate pass 1\n",
    "for pt2 in pts2:\n",
    "    minDist = 9999\n",
    "    minIdx  = None\n",
    "    \n",
    "    # find the closest centroid\n",
    "    for idx, pt1 in enumerate(pts1):\n",
    "        if minDist > dist(pt1, pt2):\n",
    "            minDist = dist(pt1, pt2)\n",
    "            minIdx = idx\n",
    "    \n",
    "    clusters[minIdx].append(pt2)\n",
    "\n",
    "    \n",
    "centroids = [ [ sum(y) / float(len(y)) for y in zip(*parray) ] for parray in clusters]\n",
    "\n",
    "# print centroids after RECOMPUTATION\n",
    "print \", \".join([ \"({0:.1f} {1:.1f})\".format(*pt) for pt in centroids])"
   ]
  },
  {
   "cell_type": "markdown",
   "metadata": {},
   "source": [
    "## Q2.\n",
    "* When performing a k-means clustering, success depends very much on the initially chosen points. Suppose that we choose two centroids (a,b) = (5,10) and (c,d) = (20,5), and the data truly belongs to __two rectangular clusters__, as suggested by the following diagram:\n",
    "\n",
    "![alt text](otc_sq-clust.gif)\n",
    "\n",
    "* Under what circumstances will the initial clustering be successful? \n",
    "    * That is, under what conditions will __all the yellow points be assigned to the centroid (5,10)__, while __all of the blue points are assigned to cluster (20,5))__? \n",
    "    * Identify in the list below, a pair of rectangles (described by their __upper left corner__, UL, and their lower-right corner LR) that are successfully clustered."
   ]
  },
  {
   "cell_type": "code",
   "execution_count": 33,
   "metadata": {
    "collapsed": false
   },
   "outputs": [
    {
     "name": "stdout",
     "output_type": "stream",
     "text": [
      "Option 1\n",
      "yellow\n",
      "none clustered\n",
      "Option 2\n",
      "yellow\n",
      "blue\n",
      "Option 3\n",
      "none clustered\n",
      "none clustered\n",
      "Option 3\n",
      "none clustered\n",
      "blue\n"
     ]
    }
   ],
   "source": [
    "def assign_cluster(yellow_centroid, blue_centroid, ul, lr):\n",
    "    if dist(ul, yellow_centroid) <= dist(ul, blue_centroid ) and \\\n",
    "       dist(lr, yellow_centroid) <= dist(lr, blue_centroid ) :\n",
    "        print \"yellow\"\n",
    "    elif dist(ul, yellow_centroid) > dist(ul, blue_centroid ) and \\\n",
    "       dist(lr, yellow_centroid) > dist(lr, blue_centroid ) :\n",
    "        print \"blue\"\n",
    "    else:\n",
    "        print \"none clustered\"\n",
    "        \n",
    "#option 1\n",
    "print \"Option 1\"\n",
    "assign_cluster((5,10) , (20,5), (6,7), (11,14))\n",
    "assign_cluster((5,10) , (20,5), (11,5), (17,2))\n",
    "\n",
    "#option 2\n",
    "print \"Option 2\"\n",
    "assign_cluster((5,10) , (20,5), (6,7), (11,4))\n",
    "assign_cluster((5,10) , (20,5), (14,10), (23,6))\n",
    "\n",
    "#option 3\n",
    "print \"Option 3\"\n",
    "assign_cluster((5,10) , (20,5), (3,15), (13,7))\n",
    "assign_cluster((5,10) , (20,5), (11,5), (17,2))\n",
    "\n",
    "#option 4\n",
    "print \"Option 3\"\n",
    "assign_cluster((5,10) , (20,5), (3,15), (13,7))\n",
    "assign_cluster((5,10) , (20,5), (14,10), (23,6))\n"
   ]
  },
  {
   "cell_type": "markdown",
   "metadata": {},
   "source": [
    "## Q3.\n",
    "* Suppose we apply the BALANCE algorithm with bids of 0 or 1 only, to a situation where advertiser A bids on query words x and y, while advertiser B bids on query words x and z. Both have a budget of $2. \n",
    "* Identify in the list below a sequence of four queries that will certainly be handled optimally by the algorithm.\n",
    "    * xxxz\n",
    "    * xzzz \n",
    "    * yzyy\n",
    "    * yxxz √"
   ]
  },
  {
   "cell_type": "markdown",
   "metadata": {},
   "source": [
    "## Q4.\n",
    "* The set cover problem is: \n",
    "    * given a list of sets, find a __smallest collection__ of these sets such that every element in any of the sets is in at least one set of the collection. \n",
    "    * As we form a collection, we say an element is covered if it is in at least one set of the collection. \n",
    "        * Note: In this problem, we shall represent sets by concatenating their elements, without brackets or commas. \n",
    "        * For example, {A,B} will be represented simply as AB. There are many greedy algorithms that could be used to pick a collection of sets that is close to as small as possible. \n",
    "    * Here are some that you will consider in this problem. \n",
    "        * Dumb: Select sets for the collection __in the order in which they appear on the list__. Stop when all elements are covered. \n",
    "        * Simple: Consider sets in the order in which they appear on the list. When it is considered, __select a set if it has at least one element that is not already covered__. Stop when all elements are covered. \n",
    "        * Largest-First: Consider sets in order of their size. __If there are ties, break the tie in favor of the one that appears first on the list.__ When it is considered, select a set if it has at least one element that is not already covered. Stop when all elements are covered. \n",
    "        * Most-Help: Consider sets in order of the __number of elements they contain that are not already covered__. If there are ties, break the tie in favor of the one that appears first on the list. Stop when all elements are covered. \n",
    "    * Here is a list of sets: AB, BC, CD, DE, EF, FG, GH, AH, ADG, ADF First, determine the __optimum solution, that is__, the fewest sets that can be selected for a collection that covers all eight elements A,B,...,H. \n",
    "    * Then, determine the __sizes of the collections__ that will be constructed by each of the four algorithms mentioned above. \n",
    "    * Compute the ratio of the size returned by the algorithm to the optimum size, and identify one of these ratios in the list below, correct to two decimal places."
   ]
  },
  {
   "cell_type": "markdown",
   "metadata": {},
   "source": [
    "## Solution 4.\n",
    "* __Optimal Solution__:\n",
    "    * one alternative - (ADG + BC + EF + GH): size = 4\n",
    "* __Dumb__:\n",
    "    * result: (AB + BC + CD + DE + EF + FG + GH): size = 7\n",
    "* __Simple__:\n",
    "    * result: (AB + BC + CD + DE + EF + FG + GH): size = 7\n",
    "* __Largest-first__:\n",
    "    * result: (ADG + AB + BC + DE + EF + GH): size = 6\n",
    "* __Most-Help__:\n",
    "    * result: (ADG + BC + EF + GH): size = 4"
   ]
  },
  {
   "cell_type": "markdown",
   "metadata": {},
   "source": [
    "## Q5.\n",
    "* This bipartite graph:\n",
    "![alt text](otc.gif)\n",
    "* Has several perfect matchings. Find all the perfect matchings and then identify, in the list below, a pair of edges that can appear together in a perfect matching."
   ]
  },
  {
   "cell_type": "markdown",
   "metadata": {},
   "source": [
    "## Solution 5.\n",
    "* __Perfect Match__:\n",
    "    * 1. a0 - b0, a1 - b2, a2 - b4, a3 - b1, a4 - b3\n",
    "    * 2. a0 - b1, a1 - b3, a2 - b0, a3 - b2, a4 - b4"
   ]
  },
  {
   "cell_type": "markdown",
   "metadata": {},
   "source": [
    "# Quiz - Week 5A\n"
   ]
  },
  {
   "cell_type": "markdown",
   "metadata": {},
   "source": [
    "## Q1.\n",
    "\n",
    "* Consider the diagonal matrix M =\n",
    "\n",
    "<pre>\n",
    "1\t0\t0\n",
    "0\t2\t0\n",
    "0\t0\t0\n",
    "</pre>\n",
    "\n",
    "* Compute its Moore-Penrose pseudoinverse, and then identify, in the list below, the true statement about the elements of the pseudoinverse."
   ]
  },
  {
   "cell_type": "code",
   "execution_count": 36,
   "metadata": {
    "collapsed": false
   },
   "outputs": [
    {
     "name": "stdout",
     "output_type": "stream",
     "text": [
      "[[ 1.   0.   0. ]\n",
      " [ 0.   0.5  0. ]\n",
      " [ 0.   0.   0. ]]\n"
     ]
    }
   ],
   "source": [
    "import numpy as np\n",
    "\n",
    "mat = np.array([[1, 0, 0], [0, 2, 0], [0, 0, 0]])\n",
    "pinv = np.linalg.pinv(mat)\n",
    "print pinv"
   ]
  },
  {
   "cell_type": "markdown",
   "metadata": {},
   "source": [
    "## Q2.\n",
    "\n",
    "* An ad publisher selects __three ads__ to place on each page, in order from the top. __Click-through rates (CTR's) at each position differ for each advertiser__, and each advertiser has a different CTR for each position. Each advertiser bids for click-throughs, and each advertiser has a __daily budget__, which may not be exceeded. When a click-through occurs, the advertiser pays the amount they bid. __In one day, there are 101 click-throughs to be auctioned.__\n",
    "* Here is a table of the bids, CTR's for positions 1, 2, and 3, and budget for each advertiser.\n",
    "\n",
    "<pre>\n",
    "\n",
    "Ad\tBid\t    CTR1\tCTR2\tCTR3\tBudget\n",
    "A\t$.10\t.015\t.010\t.005\t$1\n",
    "B\t$.09\t.016\t.012\t.006\t$2\n",
    "C\t$.08\t.017\t.014\t.007\t$3\n",
    "D\t$.07\t.018\t.015\t.008\t$4\n",
    "E\t$.06\t.019\t.016\t.010\t$5\n",
    "\n",
    "</pre>\n",
    "\n",
    "* The publisher uses the following strategy to allocate the three ad slots:\n",
    "\n",
    "    * Any advertiser whose budget is spent is ignored in what follows.\n",
    "        * The first slot goes to the advertiser whose expected yield for the first slot (product of the bid and the CTR for the first slot) is the greatest. This advertiser is ignored in what follows.\n",
    "        * The second slot goes to the advertiser whose expected yield for the second slot (product of the bid and the CTR for the second slot) is the greatest. This advertiser is ignored in what follows.\n",
    "        * The third slot goes to the advertiser whose expected yield for the third slot (product of the bid and the CTR for the third slot) is the greatest.\n",
    "    * The same three advertisers get the three ad positions until one of two things happens:\n",
    "        * An advertiser runs out of budget, or\n",
    "        * All 101 click-throughs have been obtained.\n",
    "    * Either of these events ends one phase of the allocation. If a phase ends because an advertiser ran out of budget, then they are assumed to get all the clicks their budget buys. During the same phase, we calculate the number of click-throughs received by the other two advertisers by assuming that all three received click-throughs in proportion to their respective CTR's for their positions (round to the nearest integer). If click-throughs remain, the publisher reallocates all three slots and starts a new phase.\n",
    "\n",
    "    * If the phase ends because all click-throughs have been allocated, assume that the three advertisers received click-throughs in proportion to their respective CTR's (again, rounding if necessary).\n",
    "\n",
    "    * Your task is to simulate the allocation of slots and to determine how many click-throughs each of the five advertisers get."
   ]
  },
  {
   "cell_type": "code",
   "execution_count": 49,
   "metadata": {
    "collapsed": false
   },
   "outputs": [
    {
     "name": "stdout",
     "output_type": "stream",
     "text": [
      "slot 1 ============\n",
      "0.0015\n",
      "0.00144\n",
      "0.00136\n",
      "0.00126\n",
      "0.00114\n",
      "slot 2 ============\n",
      "0.01\n",
      "0.0108\n",
      "0.0112\n",
      "0.0105\n",
      "0.0096\n",
      "slot 3 ============\n",
      "0.0005\n",
      "0.00054\n",
      "0.00056\n",
      "0.00056\n",
      "0.0006\n"
     ]
    }
   ],
   "source": [
    "import numpy as np\n",
    "print \"slot 1 ============\"\n",
    "slot1 = .10 * .015\n",
    "print slot1\n",
    "slot1 = .09 * .016\n",
    "print slot1\n",
    "slot1 = .08 * .017\n",
    "print slot1\n",
    "slot1 = .07 * .018\n",
    "print slot1\n",
    "slot1 = .06 * .019\n",
    "print slot1\n",
    "\n",
    "print \"slot 2 ============\"\n",
    "slot2 = .10 * .10\n",
    "print slot2\n",
    "slot2 = .09 * .12\n",
    "print slot2\n",
    "slot2 = .08 * .14\n",
    "print slot2\n",
    "slot2 = .07 * .15\n",
    "print slot2\n",
    "slot2 = .06 * .16\n",
    "print slot2\n",
    "\n",
    "print \"slot 3 ============\"\n",
    "slot3 = .10 * .005\n",
    "print slot3\n",
    "slot3 = .09 * .006\n",
    "print slot3\n",
    "slot3 = .08 * .007\n",
    "print slot3\n",
    "slot3 = .07 * .008\n",
    "print slot3\n",
    "slot3 = .06 * .010\n",
    "print slot3\n",
    "\n",
    "# Program for simulating the process"
   ]
  },
  {
   "cell_type": "markdown",
   "metadata": {},
   "source": [
    "## Solution 2.\n",
    "* First Slot Expectation Ranking  -  A: 0.0015,  B: 0.00144, C: 0.00136, D: 0.00126, E: 0.00114\n",
    "* Second Slot Expectation Ranking - C: 0.0112, B: 0.0108, C: 0.0105, A: 0.01, E:0.0096\n",
    "* Third Slot Expectation Ranking  -  E: 0.0006, C: 0.00056,D: 0.00056 ,B: 0.00054, A: 0.0005"
   ]
  },
  {
   "cell_type": "markdown",
   "metadata": {},
   "source": [
    "## Q3.\n",
    "* In certain clustering algorithms, such as __CURE__, we need to pick a __representative set of points__ in a supposed cluster, and these points should be as far away from each other as possible. That is, __begin with the two furthest points, and at each step add the point whose minimum distance to any of the previously selected points is maximum__.\n",
    "* Suppose you are given the following points in two-dimensional Euclidean space: x = (0,0); y = (10,10), a = (1,6); b = (3,7); c = (4,3); d = (7,7), e = (8,2); f = (9,5). __Obviously, x and y are furthest apart, so start with these__. You must add five more points, which we shall refer to as the first, second,..., fifth points in what follows. The distance measure is the normal Euclidean L2-norm. Which of the following is true about the order in which the five points are added?"
   ]
  },
  {
   "cell_type": "code",
   "execution_count": 44,
   "metadata": {
    "collapsed": false
   },
   "outputs": [
    {
     "name": "stdout",
     "output_type": "stream",
     "text": [
      "68.0\n",
      "point (8, 2) added to cluster\n",
      "50.0\n",
      "point (3, 7) added to cluster\n",
      "17.0\n",
      "point (4, 3) added to cluster\n",
      "16.0\n",
      "point (7, 7) added to cluster\n",
      "8.0\n",
      "point (9, 5) added to cluster\n"
     ]
    }
   ],
   "source": [
    "clustered_pts = [(0, 0), (10, 10)]\n",
    "unclustered_pts = [(1,6), (3,7), (4,3), (7,7), (8,2), (9,5)]\n",
    "\n",
    "def dist(pt1, pt2):\n",
    "    return (pt1[0] - pt2[0])**2 + (pt1[1] - pt2[1])**2\n",
    "\n",
    "for i in xrange(5):\n",
    "    \n",
    "    representative = (0,0)\n",
    "    maxDist = 0\n",
    "    for pt1 in unclustered_pts:\n",
    "        # find the closest centroid\n",
    "        minDist = 9999\n",
    "        for idx, pt2 in enumerate(clustered_pts):\n",
    "            if minDist > float(dist(pt1, pt2)):\n",
    "                minDist = float(dist(pt1, pt2))\n",
    "    \n",
    "        if maxDist < minDist:\n",
    "            maxDist = minDist\n",
    "            representative = pt1\n",
    "    \n",
    "    print maxDist\n",
    "    print \"point ({0}, {1}) added to cluster\".format(*representative)\n",
    "    unclustered_pts.remove(representative)\n",
    "    clustered_pts.append(representative)"
   ]
  },
  {
   "cell_type": "markdown",
   "metadata": {},
   "source": [
    "## Solution \n",
    "* First point = e\n",
    "* Second point = b\n",
    "* Third point = c\n",
    "* Fourth point = d\n",
    "* Fifth point = f"
   ]
  },
  {
   "cell_type": "code",
   "execution_count": null,
   "metadata": {
    "collapsed": true
   },
   "outputs": [],
   "source": []
  }
 ],
 "metadata": {
  "kernelspec": {
   "display_name": "Python 2",
   "language": "python",
   "name": "python2"
  },
  "language_info": {
   "codemirror_mode": {
    "name": "ipython",
    "version": 2
   },
   "file_extension": ".py",
   "mimetype": "text/x-python",
   "name": "python",
   "nbconvert_exporter": "python",
   "pygments_lexer": "ipython2",
   "version": "2.7.9"
  }
 },
 "nbformat": 4,
 "nbformat_minor": 0
}
